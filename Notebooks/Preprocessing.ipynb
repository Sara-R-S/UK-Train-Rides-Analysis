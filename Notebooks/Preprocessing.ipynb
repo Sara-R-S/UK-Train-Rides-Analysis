{
 "cells": [
  {
   "cell_type": "markdown",
   "id": "5c7e1fa6",
   "metadata": {},
   "source": [
    "# Importing Modules"
   ]
  },
  {
   "cell_type": "code",
   "execution_count": 1,
   "id": "b650e41e",
   "metadata": {},
   "outputs": [],
   "source": [
    "import numpy as np\n",
    "import pandas as pd\n",
    "import datetime as dt\n",
    "import matplotlib.pyplot as plt # for visualisation\n",
    "import matplotlib.pylab as plt # for visualisation\n",
    "import seaborn as sns   # for visualisation\n",
    "import plotly.express as px"
   ]
  },
  {
   "cell_type": "markdown",
   "id": "b9afa7f7",
   "metadata": {},
   "source": [
    "# Importing Data"
   ]
  },
  {
   "cell_type": "code",
   "execution_count": 32,
   "id": "bd5ea9d3",
   "metadata": {},
   "outputs": [],
   "source": [
    "df = pd.read_csv(\"../Data/Raw/railway.csv\")"
   ]
  },
  {
   "cell_type": "markdown",
   "id": "df4a30c0",
   "metadata": {},
   "source": [
    "# Inspection"
   ]
  },
  {
   "cell_type": "code",
   "execution_count": 33,
   "id": "f9a360b1",
   "metadata": {},
   "outputs": [
    {
     "data": {
      "text/html": [
       "<div>\n",
       "<style scoped>\n",
       "    .dataframe tbody tr th:only-of-type {\n",
       "        vertical-align: middle;\n",
       "    }\n",
       "\n",
       "    .dataframe tbody tr th {\n",
       "        vertical-align: top;\n",
       "    }\n",
       "\n",
       "    .dataframe thead th {\n",
       "        text-align: right;\n",
       "    }\n",
       "</style>\n",
       "<table border=\"1\" class=\"dataframe\">\n",
       "  <thead>\n",
       "    <tr style=\"text-align: right;\">\n",
       "      <th></th>\n",
       "      <th>Transaction ID</th>\n",
       "      <th>Date of Purchase</th>\n",
       "      <th>Time of Purchase</th>\n",
       "      <th>Purchase Type</th>\n",
       "      <th>Payment Method</th>\n",
       "      <th>Railcard</th>\n",
       "      <th>Ticket Class</th>\n",
       "      <th>Ticket Type</th>\n",
       "      <th>Price</th>\n",
       "      <th>Departure Station</th>\n",
       "      <th>Arrival Destination</th>\n",
       "      <th>Date of Journey</th>\n",
       "      <th>Departure Time</th>\n",
       "      <th>Arrival Time</th>\n",
       "      <th>Actual Arrival Time</th>\n",
       "      <th>Journey Status</th>\n",
       "      <th>Reason for Delay</th>\n",
       "      <th>Refund Request</th>\n",
       "    </tr>\n",
       "  </thead>\n",
       "  <tbody>\n",
       "    <tr>\n",
       "      <th>0</th>\n",
       "      <td>da8a6ba8-b3dc-4677-b176</td>\n",
       "      <td>2023-12-08</td>\n",
       "      <td>12:41:11</td>\n",
       "      <td>Online</td>\n",
       "      <td>Contactless</td>\n",
       "      <td>Adult</td>\n",
       "      <td>Standard</td>\n",
       "      <td>Advance</td>\n",
       "      <td>43</td>\n",
       "      <td>London Paddington</td>\n",
       "      <td>Liverpool Lime Street</td>\n",
       "      <td>2024-01-01</td>\n",
       "      <td>11:00:00</td>\n",
       "      <td>13:30:00</td>\n",
       "      <td>13:30:00</td>\n",
       "      <td>On Time</td>\n",
       "      <td>NaN</td>\n",
       "      <td>No</td>\n",
       "    </tr>\n",
       "    <tr>\n",
       "      <th>1</th>\n",
       "      <td>b0cdd1b0-f214-4197-be53</td>\n",
       "      <td>2023-12-16</td>\n",
       "      <td>11:23:01</td>\n",
       "      <td>Station</td>\n",
       "      <td>Credit Card</td>\n",
       "      <td>Adult</td>\n",
       "      <td>Standard</td>\n",
       "      <td>Advance</td>\n",
       "      <td>23</td>\n",
       "      <td>London Kings Cross</td>\n",
       "      <td>York</td>\n",
       "      <td>2024-01-01</td>\n",
       "      <td>09:45:00</td>\n",
       "      <td>11:35:00</td>\n",
       "      <td>11:40:00</td>\n",
       "      <td>Delayed</td>\n",
       "      <td>Signal Failure</td>\n",
       "      <td>No</td>\n",
       "    </tr>\n",
       "    <tr>\n",
       "      <th>2</th>\n",
       "      <td>f3ba7a96-f713-40d9-9629</td>\n",
       "      <td>2023-12-19</td>\n",
       "      <td>19:51:27</td>\n",
       "      <td>Online</td>\n",
       "      <td>Credit Card</td>\n",
       "      <td>NaN</td>\n",
       "      <td>Standard</td>\n",
       "      <td>Advance</td>\n",
       "      <td>3</td>\n",
       "      <td>Liverpool Lime Street</td>\n",
       "      <td>Manchester Piccadilly</td>\n",
       "      <td>2024-01-02</td>\n",
       "      <td>18:15:00</td>\n",
       "      <td>18:45:00</td>\n",
       "      <td>18:45:00</td>\n",
       "      <td>On Time</td>\n",
       "      <td>NaN</td>\n",
       "      <td>No</td>\n",
       "    </tr>\n",
       "    <tr>\n",
       "      <th>3</th>\n",
       "      <td>b2471f11-4fe7-4c87-8ab4</td>\n",
       "      <td>2023-12-20</td>\n",
       "      <td>23:00:36</td>\n",
       "      <td>Station</td>\n",
       "      <td>Credit Card</td>\n",
       "      <td>NaN</td>\n",
       "      <td>Standard</td>\n",
       "      <td>Advance</td>\n",
       "      <td>13</td>\n",
       "      <td>London Paddington</td>\n",
       "      <td>Reading</td>\n",
       "      <td>2024-01-01</td>\n",
       "      <td>21:30:00</td>\n",
       "      <td>22:30:00</td>\n",
       "      <td>22:30:00</td>\n",
       "      <td>On Time</td>\n",
       "      <td>NaN</td>\n",
       "      <td>No</td>\n",
       "    </tr>\n",
       "    <tr>\n",
       "      <th>4</th>\n",
       "      <td>2be00b45-0762-485e-a7a3</td>\n",
       "      <td>2023-12-27</td>\n",
       "      <td>18:22:56</td>\n",
       "      <td>Online</td>\n",
       "      <td>Contactless</td>\n",
       "      <td>NaN</td>\n",
       "      <td>Standard</td>\n",
       "      <td>Advance</td>\n",
       "      <td>76</td>\n",
       "      <td>Liverpool Lime Street</td>\n",
       "      <td>London Euston</td>\n",
       "      <td>2024-01-01</td>\n",
       "      <td>16:45:00</td>\n",
       "      <td>19:00:00</td>\n",
       "      <td>19:00:00</td>\n",
       "      <td>On Time</td>\n",
       "      <td>NaN</td>\n",
       "      <td>No</td>\n",
       "    </tr>\n",
       "    <tr>\n",
       "      <th>...</th>\n",
       "      <td>...</td>\n",
       "      <td>...</td>\n",
       "      <td>...</td>\n",
       "      <td>...</td>\n",
       "      <td>...</td>\n",
       "      <td>...</td>\n",
       "      <td>...</td>\n",
       "      <td>...</td>\n",
       "      <td>...</td>\n",
       "      <td>...</td>\n",
       "      <td>...</td>\n",
       "      <td>...</td>\n",
       "      <td>...</td>\n",
       "      <td>...</td>\n",
       "      <td>...</td>\n",
       "      <td>...</td>\n",
       "      <td>...</td>\n",
       "      <td>...</td>\n",
       "    </tr>\n",
       "    <tr>\n",
       "      <th>31648</th>\n",
       "      <td>1304623d-b8b7-4999-8e9c</td>\n",
       "      <td>2024-04-30</td>\n",
       "      <td>18:42:58</td>\n",
       "      <td>Online</td>\n",
       "      <td>Credit Card</td>\n",
       "      <td>NaN</td>\n",
       "      <td>Standard</td>\n",
       "      <td>Off-Peak</td>\n",
       "      <td>4</td>\n",
       "      <td>Manchester Piccadilly</td>\n",
       "      <td>Liverpool Lime Street</td>\n",
       "      <td>2024-04-30</td>\n",
       "      <td>20:00:00</td>\n",
       "      <td>20:30:00</td>\n",
       "      <td>20:30:00</td>\n",
       "      <td>On Time</td>\n",
       "      <td>NaN</td>\n",
       "      <td>No</td>\n",
       "    </tr>\n",
       "    <tr>\n",
       "      <th>31649</th>\n",
       "      <td>7da22246-f480-417c-bc2f</td>\n",
       "      <td>2024-04-30</td>\n",
       "      <td>18:46:10</td>\n",
       "      <td>Online</td>\n",
       "      <td>Contactless</td>\n",
       "      <td>NaN</td>\n",
       "      <td>Standard</td>\n",
       "      <td>Off-Peak</td>\n",
       "      <td>10</td>\n",
       "      <td>London Euston</td>\n",
       "      <td>Birmingham New Street</td>\n",
       "      <td>2024-04-30</td>\n",
       "      <td>20:15:00</td>\n",
       "      <td>21:35:00</td>\n",
       "      <td>21:35:00</td>\n",
       "      <td>On Time</td>\n",
       "      <td>NaN</td>\n",
       "      <td>No</td>\n",
       "    </tr>\n",
       "    <tr>\n",
       "      <th>31650</th>\n",
       "      <td>add9debf-46c1-4c75-b52d</td>\n",
       "      <td>2024-04-30</td>\n",
       "      <td>18:56:41</td>\n",
       "      <td>Station</td>\n",
       "      <td>Credit Card</td>\n",
       "      <td>NaN</td>\n",
       "      <td>Standard</td>\n",
       "      <td>Off-Peak</td>\n",
       "      <td>4</td>\n",
       "      <td>Manchester Piccadilly</td>\n",
       "      <td>Liverpool Lime Street</td>\n",
       "      <td>2024-04-30</td>\n",
       "      <td>20:15:00</td>\n",
       "      <td>20:45:00</td>\n",
       "      <td>20:45:00</td>\n",
       "      <td>On Time</td>\n",
       "      <td>NaN</td>\n",
       "      <td>No</td>\n",
       "    </tr>\n",
       "    <tr>\n",
       "      <th>31651</th>\n",
       "      <td>b92b047c-21fd-4859-966a</td>\n",
       "      <td>2024-04-30</td>\n",
       "      <td>19:51:47</td>\n",
       "      <td>Station</td>\n",
       "      <td>Credit Card</td>\n",
       "      <td>NaN</td>\n",
       "      <td>Standard</td>\n",
       "      <td>Off-Peak</td>\n",
       "      <td>10</td>\n",
       "      <td>London Euston</td>\n",
       "      <td>Birmingham New Street</td>\n",
       "      <td>2024-04-30</td>\n",
       "      <td>21:15:00</td>\n",
       "      <td>22:35:00</td>\n",
       "      <td>22:35:00</td>\n",
       "      <td>On Time</td>\n",
       "      <td>NaN</td>\n",
       "      <td>No</td>\n",
       "    </tr>\n",
       "    <tr>\n",
       "      <th>31652</th>\n",
       "      <td>1d5d89a2-bde5-410f-8f91</td>\n",
       "      <td>2024-04-30</td>\n",
       "      <td>20:05:39</td>\n",
       "      <td>Station</td>\n",
       "      <td>Credit Card</td>\n",
       "      <td>Adult</td>\n",
       "      <td>Standard</td>\n",
       "      <td>Off-Peak</td>\n",
       "      <td>3</td>\n",
       "      <td>Liverpool Lime Street</td>\n",
       "      <td>Manchester Piccadilly</td>\n",
       "      <td>2024-04-30</td>\n",
       "      <td>21:30:00</td>\n",
       "      <td>22:00:00</td>\n",
       "      <td>22:00:00</td>\n",
       "      <td>On Time</td>\n",
       "      <td>NaN</td>\n",
       "      <td>No</td>\n",
       "    </tr>\n",
       "  </tbody>\n",
       "</table>\n",
       "<p>31653 rows × 18 columns</p>\n",
       "</div>"
      ],
      "text/plain": [
       "                Transaction ID Date of Purchase Time of Purchase  \\\n",
       "0      da8a6ba8-b3dc-4677-b176       2023-12-08         12:41:11   \n",
       "1      b0cdd1b0-f214-4197-be53       2023-12-16         11:23:01   \n",
       "2      f3ba7a96-f713-40d9-9629       2023-12-19         19:51:27   \n",
       "3      b2471f11-4fe7-4c87-8ab4       2023-12-20         23:00:36   \n",
       "4      2be00b45-0762-485e-a7a3       2023-12-27         18:22:56   \n",
       "...                        ...              ...              ...   \n",
       "31648  1304623d-b8b7-4999-8e9c       2024-04-30         18:42:58   \n",
       "31649  7da22246-f480-417c-bc2f       2024-04-30         18:46:10   \n",
       "31650  add9debf-46c1-4c75-b52d       2024-04-30         18:56:41   \n",
       "31651  b92b047c-21fd-4859-966a       2024-04-30         19:51:47   \n",
       "31652  1d5d89a2-bde5-410f-8f91       2024-04-30         20:05:39   \n",
       "\n",
       "      Purchase Type Payment Method Railcard Ticket Class Ticket Type  Price  \\\n",
       "0            Online    Contactless    Adult     Standard     Advance     43   \n",
       "1           Station    Credit Card    Adult     Standard     Advance     23   \n",
       "2            Online    Credit Card      NaN     Standard     Advance      3   \n",
       "3           Station    Credit Card      NaN     Standard     Advance     13   \n",
       "4            Online    Contactless      NaN     Standard     Advance     76   \n",
       "...             ...            ...      ...          ...         ...    ...   \n",
       "31648        Online    Credit Card      NaN     Standard    Off-Peak      4   \n",
       "31649        Online    Contactless      NaN     Standard    Off-Peak     10   \n",
       "31650       Station    Credit Card      NaN     Standard    Off-Peak      4   \n",
       "31651       Station    Credit Card      NaN     Standard    Off-Peak     10   \n",
       "31652       Station    Credit Card    Adult     Standard    Off-Peak      3   \n",
       "\n",
       "           Departure Station    Arrival Destination Date of Journey  \\\n",
       "0          London Paddington  Liverpool Lime Street      2024-01-01   \n",
       "1         London Kings Cross                   York      2024-01-01   \n",
       "2      Liverpool Lime Street  Manchester Piccadilly      2024-01-02   \n",
       "3          London Paddington                Reading      2024-01-01   \n",
       "4      Liverpool Lime Street          London Euston      2024-01-01   \n",
       "...                      ...                    ...             ...   \n",
       "31648  Manchester Piccadilly  Liverpool Lime Street      2024-04-30   \n",
       "31649          London Euston  Birmingham New Street      2024-04-30   \n",
       "31650  Manchester Piccadilly  Liverpool Lime Street      2024-04-30   \n",
       "31651          London Euston  Birmingham New Street      2024-04-30   \n",
       "31652  Liverpool Lime Street  Manchester Piccadilly      2024-04-30   \n",
       "\n",
       "      Departure Time Arrival Time Actual Arrival Time Journey Status  \\\n",
       "0           11:00:00     13:30:00            13:30:00        On Time   \n",
       "1           09:45:00     11:35:00            11:40:00        Delayed   \n",
       "2           18:15:00     18:45:00            18:45:00        On Time   \n",
       "3           21:30:00     22:30:00            22:30:00        On Time   \n",
       "4           16:45:00     19:00:00            19:00:00        On Time   \n",
       "...              ...          ...                 ...            ...   \n",
       "31648       20:00:00     20:30:00            20:30:00        On Time   \n",
       "31649       20:15:00     21:35:00            21:35:00        On Time   \n",
       "31650       20:15:00     20:45:00            20:45:00        On Time   \n",
       "31651       21:15:00     22:35:00            22:35:00        On Time   \n",
       "31652       21:30:00     22:00:00            22:00:00        On Time   \n",
       "\n",
       "      Reason for Delay Refund Request  \n",
       "0                  NaN             No  \n",
       "1       Signal Failure             No  \n",
       "2                  NaN             No  \n",
       "3                  NaN             No  \n",
       "4                  NaN             No  \n",
       "...                ...            ...  \n",
       "31648              NaN             No  \n",
       "31649              NaN             No  \n",
       "31650              NaN             No  \n",
       "31651              NaN             No  \n",
       "31652              NaN             No  \n",
       "\n",
       "[31653 rows x 18 columns]"
      ]
     },
     "execution_count": 33,
     "metadata": {},
     "output_type": "execute_result"
    }
   ],
   "source": [
    "df\n",
    "#df.sample(10)\n",
    "#df.head(10)\n",
    "#df.tail(10)"
   ]
  },
  {
   "cell_type": "code",
   "execution_count": 34,
   "id": "f5aabfd1",
   "metadata": {},
   "outputs": [
    {
     "name": "stdout",
     "output_type": "stream",
     "text": [
      "<class 'pandas.core.frame.DataFrame'>\n",
      "RangeIndex: 31653 entries, 0 to 31652\n",
      "Data columns (total 18 columns):\n",
      " #   Column               Non-Null Count  Dtype \n",
      "---  ------               --------------  ----- \n",
      " 0   Transaction ID       31653 non-null  object\n",
      " 1   Date of Purchase     31653 non-null  object\n",
      " 2   Time of Purchase     31653 non-null  object\n",
      " 3   Purchase Type        31653 non-null  object\n",
      " 4   Payment Method       31653 non-null  object\n",
      " 5   Railcard             10735 non-null  object\n",
      " 6   Ticket Class         31653 non-null  object\n",
      " 7   Ticket Type          31653 non-null  object\n",
      " 8   Price                31653 non-null  int64 \n",
      " 9   Departure Station    31653 non-null  object\n",
      " 10  Arrival Destination  31653 non-null  object\n",
      " 11  Date of Journey      31653 non-null  object\n",
      " 12  Departure Time       31653 non-null  object\n",
      " 13  Arrival Time         31653 non-null  object\n",
      " 14  Actual Arrival Time  29773 non-null  object\n",
      " 15  Journey Status       31653 non-null  object\n",
      " 16  Reason for Delay     4172 non-null   object\n",
      " 17  Refund Request       31653 non-null  object\n",
      "dtypes: int64(1), object(17)\n",
      "memory usage: 4.3+ MB\n"
     ]
    }
   ],
   "source": [
    "df.info()"
   ]
  },
  {
   "cell_type": "code",
   "execution_count": 35,
   "id": "10336ad0",
   "metadata": {},
   "outputs": [
    {
     "data": {
      "text/html": [
       "<div>\n",
       "<style scoped>\n",
       "    .dataframe tbody tr th:only-of-type {\n",
       "        vertical-align: middle;\n",
       "    }\n",
       "\n",
       "    .dataframe tbody tr th {\n",
       "        vertical-align: top;\n",
       "    }\n",
       "\n",
       "    .dataframe thead th {\n",
       "        text-align: right;\n",
       "    }\n",
       "</style>\n",
       "<table border=\"1\" class=\"dataframe\">\n",
       "  <thead>\n",
       "    <tr style=\"text-align: right;\">\n",
       "      <th></th>\n",
       "      <th>Price</th>\n",
       "    </tr>\n",
       "  </thead>\n",
       "  <tbody>\n",
       "    <tr>\n",
       "      <th>count</th>\n",
       "      <td>31653.000000</td>\n",
       "    </tr>\n",
       "    <tr>\n",
       "      <th>mean</th>\n",
       "      <td>23.439200</td>\n",
       "    </tr>\n",
       "    <tr>\n",
       "      <th>std</th>\n",
       "      <td>29.997628</td>\n",
       "    </tr>\n",
       "    <tr>\n",
       "      <th>min</th>\n",
       "      <td>1.000000</td>\n",
       "    </tr>\n",
       "    <tr>\n",
       "      <th>25%</th>\n",
       "      <td>5.000000</td>\n",
       "    </tr>\n",
       "    <tr>\n",
       "      <th>50%</th>\n",
       "      <td>11.000000</td>\n",
       "    </tr>\n",
       "    <tr>\n",
       "      <th>75%</th>\n",
       "      <td>35.000000</td>\n",
       "    </tr>\n",
       "    <tr>\n",
       "      <th>max</th>\n",
       "      <td>267.000000</td>\n",
       "    </tr>\n",
       "  </tbody>\n",
       "</table>\n",
       "</div>"
      ],
      "text/plain": [
       "              Price\n",
       "count  31653.000000\n",
       "mean      23.439200\n",
       "std       29.997628\n",
       "min        1.000000\n",
       "25%        5.000000\n",
       "50%       11.000000\n",
       "75%       35.000000\n",
       "max      267.000000"
      ]
     },
     "execution_count": 35,
     "metadata": {},
     "output_type": "execute_result"
    }
   ],
   "source": [
    "df.describe()"
   ]
  },
  {
   "cell_type": "markdown",
   "id": "bb8bef26",
   "metadata": {},
   "source": [
    "# Data Types and Naming"
   ]
  },
  {
   "cell_type": "markdown",
   "id": "c759abed",
   "metadata": {},
   "source": [
    "## Text"
   ]
  },
  {
   "cell_type": "markdown",
   "id": "06534ae2",
   "metadata": {},
   "source": [
    "### Removing Blank Space"
   ]
  },
  {
   "cell_type": "code",
   "execution_count": 36,
   "id": "7521c04b",
   "metadata": {},
   "outputs": [],
   "source": [
    "#blank space\n",
    "obj_cols = df.select_dtypes(include=['object']).columns.tolist()\n",
    "for c in obj_cols:\n",
    "    df[c] = df[c].astype(str).str.strip().replace({'nan': None})"
   ]
  },
  {
   "cell_type": "code",
   "execution_count": 37,
   "id": "aa714de6",
   "metadata": {},
   "outputs": [
    {
     "name": "stdout",
     "output_type": "stream",
     "text": [
      "<class 'pandas.core.frame.DataFrame'>\n",
      "RangeIndex: 31653 entries, 0 to 31652\n",
      "Data columns (total 18 columns):\n",
      " #   Column               Non-Null Count  Dtype \n",
      "---  ------               --------------  ----- \n",
      " 0   Transaction ID       31653 non-null  object\n",
      " 1   Date of Purchase     31653 non-null  object\n",
      " 2   Time of Purchase     31653 non-null  object\n",
      " 3   Purchase Type        31653 non-null  object\n",
      " 4   Payment Method       31653 non-null  object\n",
      " 5   Railcard             10735 non-null  object\n",
      " 6   Ticket Class         31653 non-null  object\n",
      " 7   Ticket Type          31653 non-null  object\n",
      " 8   Price                31653 non-null  int64 \n",
      " 9   Departure Station    31653 non-null  object\n",
      " 10  Arrival Destination  31653 non-null  object\n",
      " 11  Date of Journey      31653 non-null  object\n",
      " 12  Departure Time       31653 non-null  object\n",
      " 13  Arrival Time         31653 non-null  object\n",
      " 14  Actual Arrival Time  29773 non-null  object\n",
      " 15  Journey Status       31653 non-null  object\n",
      " 16  Reason for Delay     4172 non-null   object\n",
      " 17  Refund Request       31653 non-null  object\n",
      "dtypes: int64(1), object(17)\n",
      "memory usage: 4.3+ MB\n"
     ]
    }
   ],
   "source": [
    "df.info()"
   ]
  },
  {
   "cell_type": "markdown",
   "id": "94c7f195",
   "metadata": {},
   "source": [
    "### Categorical Data Naming Inconsistencies"
   ]
  },
  {
   "cell_type": "code",
   "execution_count": 38,
   "id": "55afcbd5",
   "metadata": {},
   "outputs": [
    {
     "data": {
      "text/plain": [
       "array([None, 'Signal Failure', 'Technical Issue', 'Weather Conditions',\n",
       "       'Weather', 'Staffing', 'Staff Shortage', 'Signal failure',\n",
       "       'Traffic'], dtype=object)"
      ]
     },
     "execution_count": 38,
     "metadata": {},
     "output_type": "execute_result"
    }
   ],
   "source": [
    "#df['Purchase Type'].unique() # Consistent\n",
    "#df['Payment Method'].unique() # Consistent\n",
    "#df['Railcard'].unique() # Consistent\n",
    "#df['Ticket Class'].unique() # Consistent\n",
    "#df['Ticket Type'].unique() # Consistent\n",
    "#df['Departure Station'].unique() # Consistent\n",
    "#df['Arrival Destination'].unique() # Consistent\n",
    "#df['Journey Status'].unique() # Consistent\n",
    "df['Reason for Delay'].unique() # Inconsistent\n",
    "#df['Refund Request'].unique() # Consistent\n"
   ]
  },
  {
   "cell_type": "code",
   "execution_count": 39,
   "id": "930874e7",
   "metadata": {},
   "outputs": [],
   "source": [
    "df['Reason for Delay']=df['Reason for Delay'].replace({'Signal failure':'Signal Failure','Weather':'Weather Conditions','Staffing':'Staff Shortage'})"
   ]
  },
  {
   "cell_type": "code",
   "execution_count": 41,
   "id": "81e8f0d4",
   "metadata": {},
   "outputs": [
    {
     "data": {
      "text/plain": [
       "array([None, 'Signal Failure', 'Technical Issue', 'Weather Conditions',\n",
       "       'Staff Shortage', 'Traffic'], dtype=object)"
      ]
     },
     "execution_count": 41,
     "metadata": {},
     "output_type": "execute_result"
    }
   ],
   "source": [
    "df['Reason for Delay'].unique()"
   ]
  },
  {
   "cell_type": "markdown",
   "id": "346bb027",
   "metadata": {},
   "source": [
    "### Adding Feature Columns"
   ]
  },
  {
   "cell_type": "code",
   "execution_count": 42,
   "id": "eb65fdc3",
   "metadata": {},
   "outputs": [],
   "source": [
    "df['Route'] = df['Departure Station'] + ' _TO_ ' + df['Arrival Destination']"
   ]
  },
  {
   "cell_type": "markdown",
   "id": "dfded73f",
   "metadata": {},
   "source": [
    "## Numeric"
   ]
  },
  {
   "cell_type": "markdown",
   "id": "a4e2dfce",
   "metadata": {},
   "source": [
    "### Data Types Conversion"
   ]
  },
  {
   "cell_type": "code",
   "execution_count": 43,
   "id": "a2f1290c",
   "metadata": {},
   "outputs": [],
   "source": [
    "df['Price'] = pd.to_numeric(df['Price'], errors='coerce')"
   ]
  },
  {
   "cell_type": "code",
   "execution_count": 44,
   "id": "9ef0f846",
   "metadata": {},
   "outputs": [
    {
     "name": "stdout",
     "output_type": "stream",
     "text": [
      "<class 'pandas.core.frame.DataFrame'>\n",
      "RangeIndex: 31653 entries, 0 to 31652\n",
      "Data columns (total 19 columns):\n",
      " #   Column               Non-Null Count  Dtype \n",
      "---  ------               --------------  ----- \n",
      " 0   Transaction ID       31653 non-null  object\n",
      " 1   Date of Purchase     31653 non-null  object\n",
      " 2   Time of Purchase     31653 non-null  object\n",
      " 3   Purchase Type        31653 non-null  object\n",
      " 4   Payment Method       31653 non-null  object\n",
      " 5   Railcard             10735 non-null  object\n",
      " 6   Ticket Class         31653 non-null  object\n",
      " 7   Ticket Type          31653 non-null  object\n",
      " 8   Price                31653 non-null  int64 \n",
      " 9   Departure Station    31653 non-null  object\n",
      " 10  Arrival Destination  31653 non-null  object\n",
      " 11  Date of Journey      31653 non-null  object\n",
      " 12  Departure Time       31653 non-null  object\n",
      " 13  Arrival Time         31653 non-null  object\n",
      " 14  Actual Arrival Time  29773 non-null  object\n",
      " 15  Journey Status       31653 non-null  object\n",
      " 16  Reason for Delay     4172 non-null   object\n",
      " 17  Refund Request       31653 non-null  object\n",
      " 18  Route                31653 non-null  object\n",
      "dtypes: int64(1), object(18)\n",
      "memory usage: 4.6+ MB\n"
     ]
    }
   ],
   "source": [
    "df.info()"
   ]
  },
  {
   "cell_type": "markdown",
   "id": "1bf4d31e",
   "metadata": {},
   "source": [
    "### Adding Feature Columns"
   ]
  },
  {
   "cell_type": "code",
   "execution_count": 46,
   "id": "663c83a8",
   "metadata": {},
   "outputs": [],
   "source": [
    "df['Journey_id'] = range(1, len(df) + 1)\n",
    "df['Ticket_id'] = range(1, len(df) + 1)"
   ]
  },
  {
   "cell_type": "markdown",
   "id": "f42dc1cb",
   "metadata": {},
   "source": [
    "## Date and Time"
   ]
  },
  {
   "cell_type": "markdown",
   "id": "1a480b22",
   "metadata": {},
   "source": [
    "### Renaming Columns"
   ]
  },
  {
   "cell_type": "code",
   "execution_count": 47,
   "id": "480ebcaa",
   "metadata": {},
   "outputs": [],
   "source": [
    "df = df.rename(columns={'Date of Purchase':'Purchase Date',\n",
    "                        'Time of Purchase':'Purchase Time',\n",
    "                        'Date of Journey':'Departure Date'})"
   ]
  },
  {
   "cell_type": "markdown",
   "id": "b5bd3a94",
   "metadata": {},
   "source": [
    "### Data Types Conversion"
   ]
  },
  {
   "cell_type": "code",
   "execution_count": 49,
   "id": "484d0d95",
   "metadata": {},
   "outputs": [],
   "source": [
    "df['Purchase Date']=pd.to_datetime(df['Purchase Date'])\n",
    "df['Purchase Time']=pd.to_datetime(df['Purchase Time'],format='%H:%M:%S',errors='coerce').dt.time\n",
    "\n",
    "df['Departure Date']=pd.to_datetime(df['Departure Date'],errors='coerce')\n",
    "df['Departure Time']=pd.to_datetime(df['Departure Time'],format='%H:%M:%S',errors='coerce').dt.time\n",
    "\n",
    "df['Arrival Time']=pd.to_datetime(df['Arrival Time'],format='%H:%M:%S',errors='coerce').dt.time\n",
    "df['Actual Arrival Time']=pd.to_datetime(df['Actual Arrival Time'],format='%H:%M:%S',errors='coerce').dt.time"
   ]
  },
  {
   "cell_type": "markdown",
   "id": "e85eb04b",
   "metadata": {},
   "source": [
    "### Adding Feature Columns"
   ]
  },
  {
   "cell_type": "code",
   "execution_count": 51,
   "id": "aceb752c",
   "metadata": {},
   "outputs": [],
   "source": [
    "df['Purchase Weekday'] = df['Purchase Date'].dt.day_name()\n",
    "df['Purchase Timestamp'] = df['Purchase Date'] + pd.to_timedelta(df['Purchase Time'].astype(str))\n",
    "\n",
    "df['Departure Weekday'] = df['Departure Date'].dt.day_name()\n",
    "df['Departure Timestamp'] = df['Departure Date'] + pd.to_timedelta(df['Departure Time'].astype(str))\n",
    "\n",
    "df['Arrival Timestamp'] = df['Departure Date'] + pd.to_timedelta(df['Arrival Time'].astype(str))\n",
    "df['Actual Arrival Timestamp'] = df['Departure Date'] + pd.to_timedelta(df['Actual Arrival Time'].astype(str))\n",
    "\n",
    "df['Delay duration'] = (df['Actual Arrival Timestamp'] - df['Arrival Timestamp']).dt.total_seconds() / 60"
   ]
  },
  {
   "cell_type": "code",
   "execution_count": 52,
   "id": "dab4a532",
   "metadata": {},
   "outputs": [
    {
     "name": "stdout",
     "output_type": "stream",
     "text": [
      "<class 'pandas.core.frame.DataFrame'>\n",
      "RangeIndex: 31653 entries, 0 to 31652\n",
      "Data columns (total 28 columns):\n",
      " #   Column                    Non-Null Count  Dtype         \n",
      "---  ------                    --------------  -----         \n",
      " 0   Transaction ID            31653 non-null  object        \n",
      " 1   Purchase Date             31653 non-null  datetime64[ns]\n",
      " 2   Purchase Time             31653 non-null  object        \n",
      " 3   Purchase Type             31653 non-null  object        \n",
      " 4   Payment Method            31653 non-null  object        \n",
      " 5   Railcard                  10735 non-null  object        \n",
      " 6   Ticket Class              31653 non-null  object        \n",
      " 7   Ticket Type               31653 non-null  object        \n",
      " 8   Price                     31653 non-null  int64         \n",
      " 9   Departure Station         31653 non-null  object        \n",
      " 10  Arrival Destination       31653 non-null  object        \n",
      " 11  Departure Date            31653 non-null  datetime64[ns]\n",
      " 12  Departure Time            31653 non-null  object        \n",
      " 13  Arrival Time              31653 non-null  object        \n",
      " 14  Actual Arrival Time       29773 non-null  object        \n",
      " 15  Journey Status            31653 non-null  object        \n",
      " 16  Reason for Delay          4172 non-null   object        \n",
      " 17  Refund Request            31653 non-null  object        \n",
      " 18  Route                     31653 non-null  object        \n",
      " 19  Journey_id                31653 non-null  int64         \n",
      " 20  Ticket_id                 31653 non-null  int64         \n",
      " 21  Purchase Weekday          31653 non-null  object        \n",
      " 22  Purchase Timestamp        31653 non-null  datetime64[ns]\n",
      " 23  Departure Weekday         31653 non-null  object        \n",
      " 24  Departure Timestamp       31653 non-null  datetime64[ns]\n",
      " 25  Arrival Timestamp         31653 non-null  datetime64[ns]\n",
      " 26  Actual Arrival Timestamp  29773 non-null  datetime64[ns]\n",
      " 27  Delay duration            29773 non-null  float64       \n",
      "dtypes: datetime64[ns](6), float64(1), int64(3), object(18)\n",
      "memory usage: 6.8+ MB\n"
     ]
    }
   ],
   "source": [
    "df.info()"
   ]
  },
  {
   "cell_type": "markdown",
   "id": "af839cdc",
   "metadata": {},
   "source": [
    "# Nulls and Missing Values"
   ]
  },
  {
   "cell_type": "markdown",
   "id": "e4f56963",
   "metadata": {},
   "source": [
    "## Missing Values Distribution"
   ]
  },
  {
   "cell_type": "code",
   "execution_count": 53,
   "id": "9e46d6d5",
   "metadata": {},
   "outputs": [
    {
     "data": {
      "image/png": "[encoded data removed]",
      "text/plain": [
       "<Figure size 1500x500 with 1 Axes>"
      ]
     },
     "metadata": {},
     "output_type": "display_data"
    }
   ],
   "source": [
    "sample = df.sample(n=min(10000, len(df)), random_state=42)\n",
    "plt.figure(figsize=(15,5))\n",
    "plt.imshow(sample.isnull().T, aspect=\"auto\", cmap=\"gray_r\")\n",
    "plt.yticks(range(len(sample.columns)), sample.columns)\n",
    "plt.xlabel(\"Sampled Rows\")\n",
    "plt.title(\"Missing Values matrix (sample)\")\n",
    "plt.show()"
   ]
  },
  {
   "cell_type": "code",
   "execution_count": 54,
   "id": "2525fdde",
   "metadata": {},
   "outputs": [
    {
     "data": {
      "text/plain": [
       "Transaction ID                  0\n",
       "Purchase Date                   0\n",
       "Purchase Time                   0\n",
       "Purchase Type                   0\n",
       "Payment Method                  0\n",
       "Railcard                    20918\n",
       "Ticket Class                    0\n",
       "Ticket Type                     0\n",
       "Price                           0\n",
       "Departure Station               0\n",
       "Arrival Destination             0\n",
       "Departure Date                  0\n",
       "Departure Time                  0\n",
       "Arrival Time                    0\n",
       "Actual Arrival Time          1880\n",
       "Journey Status                  0\n",
       "Reason for Delay            27481\n",
       "Refund Request                  0\n",
       "Route                           0\n",
       "Journey_id                      0\n",
       "Ticket_id                       0\n",
       "Purchase Weekday                0\n",
       "Purchase Timestamp              0\n",
       "Departure Weekday               0\n",
       "Departure Timestamp             0\n",
       "Arrival Timestamp               0\n",
       "Actual Arrival Timestamp     1880\n",
       "Delay duration               1880\n",
       "dtype: int64"
      ]
     },
     "execution_count": 54,
     "metadata": {},
     "output_type": "execute_result"
    }
   ],
   "source": [
    "df.isnull().sum()"
   ]
  },
  {
   "cell_type": "markdown",
   "id": "7f047cfa",
   "metadata": {},
   "source": [
    "### Railcard Missing Values"
   ]
  },
  {
   "cell_type": "code",
   "execution_count": 55,
   "id": "fb040bdc",
   "metadata": {},
   "outputs": [
    {
     "data": {
      "text/plain": [
       "array(['Adult', None, 'Disabled', 'Senior'], dtype=object)"
      ]
     },
     "execution_count": 55,
     "metadata": {},
     "output_type": "execute_result"
    }
   ],
   "source": [
    "df['Railcard'].unique()"
   ]
  },
  {
   "cell_type": "markdown",
   "id": "5727c213",
   "metadata": {},
   "source": [
    "The passenger is either a National Railcard holder (Adult, Senior, or Disabled) or not (None)."
   ]
  },
  {
   "cell_type": "code",
   "execution_count": 56,
   "id": "1d21f1a2",
   "metadata": {},
   "outputs": [],
   "source": [
    "df = df.fillna(value = {'Railcard': 'None'})"
   ]
  },
  {
   "cell_type": "code",
   "execution_count": 59,
   "id": "89995cd2",
   "metadata": {},
   "outputs": [
    {
     "data": {
      "text/plain": [
       "array(['Adult', 'None', 'Disabled', 'Senior'], dtype=object)"
      ]
     },
     "execution_count": 59,
     "metadata": {},
     "output_type": "execute_result"
    }
   ],
   "source": [
    "df['Railcard'].unique()"
   ]
  },
  {
   "cell_type": "code",
   "execution_count": 61,
   "id": "44462ef6",
   "metadata": {},
   "outputs": [
    {
     "data": {
      "text/plain": [
       "np.int64(0)"
      ]
     },
     "execution_count": 61,
     "metadata": {},
     "output_type": "execute_result"
    }
   ],
   "source": [
    "df['Railcard'].isna().sum()"
   ]
  },
  {
   "cell_type": "markdown",
   "id": "889f8748",
   "metadata": {},
   "source": [
    "### Delay Duration Missing Values"
   ]
  },
  {
   "cell_type": "code",
   "execution_count": 62,
   "id": "6976c2b0",
   "metadata": {},
   "outputs": [
    {
     "data": {
      "text/plain": [
       "np.int64(27481)"
      ]
     },
     "execution_count": 62,
     "metadata": {},
     "output_type": "execute_result"
    }
   ],
   "source": [
    "df['Reason for Delay'].isna().sum()"
   ]
  },
  {
   "cell_type": "code",
   "execution_count": 63,
   "id": "4a6d0a76",
   "metadata": {},
   "outputs": [
    {
     "data": {
      "text/plain": [
       "np.int64(27481)"
      ]
     },
     "execution_count": 63,
     "metadata": {},
     "output_type": "execute_result"
    }
   ],
   "source": [
    "df.loc[df['Reason for Delay'].isna() & (df['Journey Status']=='On Time'),'Reason for Delay'].isna().sum()"
   ]
  },
  {
   "cell_type": "markdown",
   "id": "5143bb76",
   "metadata": {},
   "source": [
    "The missing values in the 'Reason for Delay' column are due to the rides being On Time"
   ]
  },
  {
   "cell_type": "markdown",
   "id": "2ef1fdd4",
   "metadata": {},
   "source": [
    "### Actual Arrival Time Missing Values"
   ]
  },
  {
   "cell_type": "code",
   "execution_count": 64,
   "id": "3e4b4c60",
   "metadata": {},
   "outputs": [
    {
     "data": {
      "text/plain": [
       "np.int64(1880)"
      ]
     },
     "execution_count": 64,
     "metadata": {},
     "output_type": "execute_result"
    }
   ],
   "source": [
    "df['Actual Arrival Time'].isna().sum()"
   ]
  },
  {
   "cell_type": "code",
   "execution_count": 65,
   "id": "e3afc310",
   "metadata": {},
   "outputs": [
    {
     "data": {
      "text/plain": [
       "np.int64(1880)"
      ]
     },
     "execution_count": 65,
     "metadata": {},
     "output_type": "execute_result"
    }
   ],
   "source": [
    "df.loc[df['Actual Arrival Time'].isna() & (df['Journey Status']=='Cancelled'),'Actual Arrival Time'].isna().sum()"
   ]
  },
  {
   "cell_type": "markdown",
   "id": "2fef8e0b",
   "metadata": {},
   "source": [
    "The missing values in the 'Actual Arrival Time' column are due to rides being cancelled, which subsequently caused missing values in both the 'Actual Arrival Timestamp' and 'Delay Duration' columns"
   ]
  },
  {
   "cell_type": "markdown",
   "id": "392cd273",
   "metadata": {},
   "source": [
    "## Removing Blank Rows"
   ]
  },
  {
   "cell_type": "code",
   "execution_count": 67,
   "id": "e620315d",
   "metadata": {},
   "outputs": [],
   "source": [
    "df = df.dropna(axis=0, how='all') # remove blank rows"
   ]
  },
  {
   "cell_type": "markdown",
   "id": "a5cded9f",
   "metadata": {},
   "source": [
    "# Handling Duplicates"
   ]
  },
  {
   "cell_type": "code",
   "execution_count": 68,
   "id": "a92c1adc",
   "metadata": {},
   "outputs": [
    {
     "name": "stdout",
     "output_type": "stream",
     "text": [
      "No Duplicated Records Found\n"
     ]
    }
   ],
   "source": [
    "if df.duplicated().sum() == 0:\n",
    "    print('No Duplicated Records Found')\n",
    "else:\n",
    "    df.duplicated()\n",
    "    #df = df.drop_duplicates()"
   ]
  },
  {
   "cell_type": "code",
   "execution_count": 70,
   "id": "e29aafea",
   "metadata": {},
   "outputs": [
    {
     "name": "stdout",
     "output_type": "stream",
     "text": [
      "No Duplicated Transaction IDs Found\n"
     ]
    }
   ],
   "source": [
    "if df['Transaction ID'].duplicated().sum() == 0:\n",
    "    print('No Duplicated Transaction IDs Found')\n",
    "else:\n",
    "    df.duplicated()\n",
    "    #df = df.drop_duplicates()"
   ]
  },
  {
   "cell_type": "markdown",
   "id": "541718dd",
   "metadata": {},
   "source": [
    "# Output Preprocessed Data Frame in a CSV Format"
   ]
  },
  {
   "cell_type": "code",
   "execution_count": 71,
   "id": "6e92275d",
   "metadata": {},
   "outputs": [
    {
     "data": {
      "text/plain": [
       "'..\\\\Data\\\\Preprocessed\\\\preprocessed_railway.csv'"
      ]
     },
     "execution_count": 71,
     "metadata": {},
     "output_type": "execute_result"
    }
   ],
   "source": [
    "output_path = r\"..\\Data\\Preprocessed\\preprocessed_railway.csv\"\n",
    "df.to_csv(output_path, index=False)\n",
    "output_path"
   ]
  }
 ],
 "metadata": {
  "kernelspec": {
   "display_name": ".venv",
   "language": "python",
   "name": "python3"
  },
  "language_info": {
   "codemirror_mode": {
    "name": "ipython",
    "version": 3
   },
   "file_extension": ".py",
   "mimetype": "text/x-python",
   "name": "python",
   "nbconvert_exporter": "python",
   "pygments_lexer": "ipython3",
   "version": "3.13.7"
  }
 },
 "nbformat": 4,
 "nbformat_minor": 5
}
